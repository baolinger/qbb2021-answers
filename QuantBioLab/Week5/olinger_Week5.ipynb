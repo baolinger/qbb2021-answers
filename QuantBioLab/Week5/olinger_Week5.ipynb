{
 "cells": [
  {
   "cell_type": "code",
   "execution_count": 1,
   "metadata": {},
   "outputs": [],
   "source": [
    "import pandas as pd"
   ]
  },
  {
   "cell_type": "code",
   "execution_count": 12,
   "metadata": {},
   "outputs": [],
   "source": [
    "#import tables with overlap between CTCF binding sites and features(genes)\n",
    "G1e_overlap = pd.read_table(\"G1E_overlap\", sep=\"\\t\")\n",
    "ER4_overlap = pd.read_table(\"ER4_overlap\", sep=\"\\t\")"
   ]
  },
  {
   "cell_type": "code",
   "execution_count": 24,
   "metadata": {},
   "outputs": [],
   "source": [
    "#extract intron, exon, promotor counts from G1E cell type\n",
    "g_intron = 0\n",
    "g_exon = 0\n",
    "g_promoter = 0\n",
    "o_list = G1e_overlap.iloc[:,3]\n",
    "for i in range(len(o_list)):\n",
    "    if o_list[i] == \"intron\":\n",
    "        g_intron += 1\n",
    "    if o_list[i] == \"exon\":\n",
    "        g_exon += 1\n",
    "    if o_list[i] == \"promoter\":\n",
    "        g_promoter += 1"
   ]
  },
  {
   "cell_type": "code",
   "execution_count": 29,
   "metadata": {},
   "outputs": [
    {
     "data": {
      "text/plain": [
       "278"
      ]
     },
     "execution_count": 29,
     "metadata": {},
     "output_type": "execute_result"
    }
   ],
   "source": [
    "#extract intron, exon, promotor counts from ER4 cell type\n",
    "e_intron = 0\n",
    "e_exon = 0\n",
    "e_promoter = 0\n",
    "o_list = ER4_overlap.iloc[:,3]\n",
    "for i in range(len(o_list)):\n",
    "    if o_list[i] == \"intron\":\n",
    "        e_intron += 1\n",
    "    if o_list[i] == \"exon\":\n",
    "        e_exon += 1\n",
    "    if o_list[i] == \"promoter\":\n",
    "        e_promoter += 1"
   ]
  },
  {
   "cell_type": "code",
   "execution_count": 57,
   "metadata": {},
   "outputs": [
    {
     "data": {
      "text/plain": [
       "<function matplotlib.pyplot.show(close=None, block=None)>"
      ]
     },
     "execution_count": 57,
     "metadata": {},
     "output_type": "execute_result"
    },
    {
     "data": {
      "image/png": "[encoded data removed]",
      "text/plain": [
       "<Figure size 432x288 with 1 Axes>"
      ]
     },
     "metadata": {
      "needs_background": "light"
     },
     "output_type": "display_data"
    }
   ],
   "source": [
    "#create bar plot for CTCF binding sites \n",
    "import matplotlib.pyplot as plt\n",
    "import numpy as np\n",
    "labels = ['Introns', 'Exons', 'Promoters']\n",
    "g_counts = [g_intron, g_exon, g_promoter]\n",
    "e_counts = [e_intron, e_exon, e_promoter]\n",
    "x = np.arange(3)\n",
    "width = .35\n",
    "fig, ax = plt.subplots()\n",
    "rec1 = ax.bar(x - width/2, g_counts, label='G1E')\n",
    "rec2 = ax.bar(x + width/2, e_counts, label='ER4')\n",
    "ax.set_ylabel(\"Counts\")\n",
    "ax.set_title(\"CTCF Binding Sites by Region\")\n",
    "ax.set_xticks(x)\n",
    "ax.set_xticklabels(labels)\n",
    "ax.legend()\n",
    "\n",
    "#ax.bar_label(rec1,padding=3)\n",
    "#ax.bar_label(rec2,padding=3)\n",
    "\n",
    "fig.tight_layout()\n",
    "\n",
    "plt.show"
   ]
  },
  {
   "cell_type": "code",
   "execution_count": 64,
   "metadata": {},
   "outputs": [
    {
     "data": {
      "text/plain": [
       "<function matplotlib.pyplot.show(close=None, block=None)>"
      ]
     },
     "execution_count": 64,
     "metadata": {},
     "output_type": "execute_result"
    },
    {
     "data": {
      "image/png": "[encoded data removed]",
      "text/plain": [
       "<Figure size 432x288 with 1 Axes>"
      ]
     },
     "metadata": {
      "needs_background": "light"
     },
     "output_type": "display_data"
    }
   ],
   "source": [
    "#create bar plot for lost and gained CTCF binding sites\n",
    "import matplotlib.pyplot as plt\n",
    "import numpy as np\n",
    "labels = ['Lost', 'Gained']\n",
    "lost = 207\n",
    "gained = 343\n",
    "x = np.arange(2)\n",
    "width = .35\n",
    "fig, ax = plt.subplots()\n",
    "rec1 = ax.bar(0, lost, label='Lost')\n",
    "rec2 = ax.bar(1, gained, label='Gained')\n",
    "ax.set_ylabel(\"CTCF Sites\")\n",
    "ax.set_title(\"CTCF Binding Sites Lost of Gained During Differentiation\")\n",
    "ax.set_xticks(x)\n",
    "ax.set_xticklabels(labels)\n",
    "#ax.legend()\n",
    "\n",
    "#ax.bar_label(rec1,padding=3)\n",
    "#ax.bar_label(rec2,padding=3)\n",
    "\n",
    "fig.tight_layout()\n",
    "\n",
    "plt.show"
   ]
  },
  {
   "cell_type": "code",
   "execution_count": null,
   "metadata": {},
   "outputs": [],
   "source": []
  }
 ],
 "metadata": {
  "kernelspec": {
   "display_name": "Python 3",
   "language": "python",
   "name": "python3"
  },
  "language_info": {
   "codemirror_mode": {
    "name": "ipython",
    "version": 3
   },
   "file_extension": ".py",
   "mimetype": "text/x-python",
   "name": "python",
   "nbconvert_exporter": "python",
   "pygments_lexer": "ipython3",
   "version": "3.7.1"
  }
 },
 "nbformat": 4,
 "nbformat_minor": 4
}
