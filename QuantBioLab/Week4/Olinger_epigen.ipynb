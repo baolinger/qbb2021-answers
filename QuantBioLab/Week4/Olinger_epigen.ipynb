{
 "cells": [
  {
   "cell_type": "code",
   "execution_count": 22,
   "metadata": {},
   "outputs": [
    {
     "data": {
      "text/html": [
       "<div>\n",
       "<style scoped>\n",
       "    .dataframe tbody tr th:only-of-type {\n",
       "        vertical-align: middle;\n",
       "    }\n",
       "\n",
       "    .dataframe tbody tr th {\n",
       "        vertical-align: top;\n",
       "    }\n",
       "\n",
       "    .dataframe thead th {\n",
       "        text-align: right;\n",
       "    }\n",
       "</style>\n",
       "<table border=\"1\" class=\"dataframe\">\n",
       "  <thead>\n",
       "    <tr style=\"text-align: right;\">\n",
       "      <th></th>\n",
       "      <th>chr6</th>\n",
       "      <th>50108240</th>\n",
       "      <th>50110240</th>\n",
       "      <th>Mpp6</th>\n",
       "      <th>0</th>\n",
       "      <th>+</th>\n",
       "      <th>100</th>\n",
       "    </tr>\n",
       "  </thead>\n",
       "  <tbody>\n",
       "    <tr>\n",
       "      <th>0</th>\n",
       "      <td>chr6</td>\n",
       "      <td>50261769</td>\n",
       "      <td>50263769</td>\n",
       "      <td>Dfna5</td>\n",
       "      <td>0</td>\n",
       "      <td>-</td>\n",
       "      <td>950.000000</td>\n",
       "    </tr>\n",
       "    <tr>\n",
       "      <th>1</th>\n",
       "      <td>chr6</td>\n",
       "      <td>50382837</td>\n",
       "      <td>50384837</td>\n",
       "      <td>Osbpl3</td>\n",
       "      <td>0</td>\n",
       "      <td>-</td>\n",
       "      <td>1650.000000</td>\n",
       "    </tr>\n",
       "    <tr>\n",
       "      <th>2</th>\n",
       "      <td>chr6</td>\n",
       "      <td>50566474</td>\n",
       "      <td>50568474</td>\n",
       "      <td>Cycs</td>\n",
       "      <td>0</td>\n",
       "      <td>-</td>\n",
       "      <td>650.000000</td>\n",
       "    </tr>\n",
       "    <tr>\n",
       "      <th>3</th>\n",
       "      <td>chr6</td>\n",
       "      <td>50570397</td>\n",
       "      <td>50572397</td>\n",
       "      <td>Mir6371</td>\n",
       "      <td>0</td>\n",
       "      <td>+</td>\n",
       "      <td>1916.666667</td>\n",
       "    </tr>\n",
       "    <tr>\n",
       "      <th>4</th>\n",
       "      <td>chr6</td>\n",
       "      <td>50654393</td>\n",
       "      <td>50656393</td>\n",
       "      <td>Npvf</td>\n",
       "      <td>0</td>\n",
       "      <td>-</td>\n",
       "      <td>1383.333333</td>\n",
       "    </tr>\n",
       "    <tr>\n",
       "      <th>...</th>\n",
       "      <td>...</td>\n",
       "      <td>...</td>\n",
       "      <td>...</td>\n",
       "      <td>...</td>\n",
       "      <td>...</td>\n",
       "      <td>...</td>\n",
       "      <td>...</td>\n",
       "    </tr>\n",
       "    <tr>\n",
       "      <th>101</th>\n",
       "      <td>chr6</td>\n",
       "      <td>58831699</td>\n",
       "      <td>58833699</td>\n",
       "      <td>Herc3</td>\n",
       "      <td>0</td>\n",
       "      <td>+</td>\n",
       "      <td>850.000000</td>\n",
       "    </tr>\n",
       "    <tr>\n",
       "      <th>102</th>\n",
       "      <td>chr6</td>\n",
       "      <td>58907126</td>\n",
       "      <td>58909126</td>\n",
       "      <td>Nap1l5</td>\n",
       "      <td>0</td>\n",
       "      <td>-</td>\n",
       "      <td>800.000000</td>\n",
       "    </tr>\n",
       "    <tr>\n",
       "      <th>103</th>\n",
       "      <td>chr6</td>\n",
       "      <td>59024502</td>\n",
       "      <td>59026502</td>\n",
       "      <td>Fam13a</td>\n",
       "      <td>0</td>\n",
       "      <td>-</td>\n",
       "      <td>750.000000</td>\n",
       "    </tr>\n",
       "    <tr>\n",
       "      <th>104</th>\n",
       "      <td>chr6</td>\n",
       "      <td>59206869</td>\n",
       "      <td>59208869</td>\n",
       "      <td>Tigd2</td>\n",
       "      <td>0</td>\n",
       "      <td>+</td>\n",
       "      <td>950.000000</td>\n",
       "    </tr>\n",
       "    <tr>\n",
       "      <th>105</th>\n",
       "      <td>chr6</td>\n",
       "      <td>59426290</td>\n",
       "      <td>59428290</td>\n",
       "      <td>Gprin3</td>\n",
       "      <td>0</td>\n",
       "      <td>-</td>\n",
       "      <td>900.000000</td>\n",
       "    </tr>\n",
       "  </tbody>\n",
       "</table>\n",
       "<p>106 rows × 7 columns</p>\n",
       "</div>"
      ],
      "text/plain": [
       "     chr6  50108240  50110240     Mpp6  0  +          100\n",
       "0    chr6  50261769  50263769    Dfna5  0  -   950.000000\n",
       "1    chr6  50382837  50384837   Osbpl3  0  -  1650.000000\n",
       "2    chr6  50566474  50568474     Cycs  0  -   650.000000\n",
       "3    chr6  50570397  50572397  Mir6371  0  +  1916.666667\n",
       "4    chr6  50654393  50656393     Npvf  0  -  1383.333333\n",
       "..    ...       ...       ...      ... .. ..          ...\n",
       "101  chr6  58831699  58833699    Herc3  0  +   850.000000\n",
       "102  chr6  58907126  58909126   Nap1l5  0  -   800.000000\n",
       "103  chr6  59024502  59026502   Fam13a  0  -   750.000000\n",
       "104  chr6  59206869  59208869    Tigd2  0  +   950.000000\n",
       "105  chr6  59426290  59428290   Gprin3  0  -   900.000000\n",
       "\n",
       "[106 rows x 7 columns]"
      ]
     },
     "execution_count": 22,
     "metadata": {},
     "output_type": "execute_result"
    }
   ],
   "source": [
    "import pandas as pd\n",
    "\n",
    "#read in files with summed methylation scores\n",
    "\n",
    "whole = pd.read_table('stage4.txt', delim_whitespace=True)\n",
    "epi = pd.read_table('stage5.txt', delim_whitespace=True)\n",
    "epi"
   ]
  },
  {
   "cell_type": "code",
   "execution_count": 70,
   "metadata": {},
   "outputs": [
    {
     "data": {
      "text/plain": [
       "[950.0,\n",
       " 1650.0,\n",
       " 650.0,\n",
       " 1916.6666670000002,\n",
       " 1383.333333,\n",
       " 400.0,\n",
       " 1433.333333,\n",
       " 1083.333333,\n",
       " 0.0,\n",
       " 0.0,\n",
       " 700.0,\n",
       " 250.0,\n",
       " 2900.0,\n",
       " 50.0,\n",
       " 0.0,\n",
       " 0.0,\n",
       " 0.0,\n",
       " 750.0,\n",
       " 450.0,\n",
       " 283.3333333,\n",
       " 500.0,\n",
       " 183.33333330000002,\n",
       " 400.0,\n",
       " 266.6666667,\n",
       " 0.0,\n",
       " 450.0,\n",
       " 616.6666667000001,\n",
       " 0.0,\n",
       " 100.0,\n",
       " 100.0,\n",
       " 100.0,\n",
       " 200.0,\n",
       " 550.0,\n",
       " 666.6666667000001,\n",
       " 600.0,\n",
       " 966.6666667000002,\n",
       " 1841.6666670000002,\n",
       " 250.0,\n",
       " 650.0,\n",
       " 1050.0,\n",
       " 400.0,\n",
       " 950.0,\n",
       " 1450.0,\n",
       " 800.0,\n",
       " 300.0,\n",
       " 300.0,\n",
       " 383.3333333,\n",
       " 925.0,\n",
       " 1426.666667,\n",
       " 250.0,\n",
       " 400.0,\n",
       " 600.0,\n",
       " 600.0,\n",
       " 1200.0,\n",
       " 300.0,\n",
       " 1116.666667,\n",
       " 600.0,\n",
       " 900.0,\n",
       " 1716.6666670000002,\n",
       " 800.0,\n",
       " 300.0,\n",
       " 258.3333333,\n",
       " 1466.666667,\n",
       " 583.3333332999999,\n",
       " 883.3333332999998,\n",
       " 891.6666667000002,\n",
       " 1050.0,\n",
       " 300.0,\n",
       " 350.0,\n",
       " 358.3333333,\n",
       " 216.66666669999998,\n",
       " 150.0,\n",
       " 300.0,\n",
       " 150.0,\n",
       " 533.3333333,\n",
       " 183.33333330000002,\n",
       " 150.0,\n",
       " 500.0,\n",
       " 233.33333330000002,\n",
       " 200.0,\n",
       " 291.6666667,\n",
       " 133.3333333,\n",
       " 900.0,\n",
       " 300.0,\n",
       " 825.0,\n",
       " 100.0,\n",
       " 1233.333333,\n",
       " 500.0,\n",
       " 200.0,\n",
       " 450.0,\n",
       " 300.0,\n",
       " 266.6666667,\n",
       " 870.0,\n",
       " 200.0,\n",
       " 83.33333333,\n",
       " 350.0,\n",
       " 240.0,\n",
       " 550.0,\n",
       " 200.0,\n",
       " 100.0,\n",
       " 500.0,\n",
       " 850.0,\n",
       " 800.0,\n",
       " 750.0,\n",
       " 950.0,\n",
       " 900.0]"
      ]
     },
     "execution_count": 70,
     "metadata": {},
     "output_type": "execute_result"
    }
   ],
   "source": [
    "#Extract methylation scores, exclude '.' values\n",
    "\n",
    "#stage 4\n",
    "num = 0\n",
    "whole2 = []\n",
    "for i in range(106):\n",
    "    if whole.iloc[i,6] == \".\":\n",
    "        num = num + 1\n",
    "    else:\n",
    "        whole2.append(float(whole.iloc[i,6]))\n",
    "whole2\n",
    "\n",
    "#stage 5.5\n",
    "num = 0\n",
    "epi2 = []\n",
    "for i in range(106):\n",
    "    if epi.iloc[i,6] == \".\":\n",
    "        num = num + 1\n",
    "    else:\n",
    "        epi2.append(float(epi.iloc[i,6]))\n",
    "epi2"
   ]
  },
  {
   "cell_type": "code",
   "execution_count": 81,
   "metadata": {},
   "outputs": [
    {
     "data": {
      "image/png": "[encoded data removed]",
      "text/plain": [
       "<Figure size 720x504 with 1 Axes>"
      ]
     },
     "metadata": {
      "needs_background": "light"
     },
     "output_type": "display_data"
    }
   ],
   "source": [
    "#create histograms\n",
    "\n",
    "from matplotlib import pyplot as plt\n",
    "import numpy as np\n",
    " \n",
    "#stage 4\n",
    "fig, ax = plt.subplots(figsize =(10, 7))\n",
    "ax.hist(whole2, bins = 20)\n",
    "plt.xlabel('Promotor')\n",
    "plt.ylabel('Methylation Score')\n",
    "plt.title(\"Stage 4 Promotor Methylation Score\")\n",
    " \n",
    "# Show plot\n",
    "plt.show()\n"
   ]
  },
  {
   "cell_type": "code",
   "execution_count": 82,
   "metadata": {},
   "outputs": [
    {
     "data": {
      "image/png": "[encoded data removed]",
      "text/plain": [
       "<Figure size 720x504 with 1 Axes>"
      ]
     },
     "metadata": {
      "needs_background": "light"
     },
     "output_type": "display_data"
    }
   ],
   "source": [
    "#stage 4\n",
    "fig, ax = plt.subplots(figsize =(10, 7))\n",
    "ax.hist(epi2, bins = 20)\n",
    "plt.xlabel('Promotor')\n",
    "plt.ylabel('Methylation Score')\n",
    "plt.title(\"Stage 5.5 Promotor Methylation Score\")\n",
    " \n",
    "# Show plot\n",
    "plt.show()"
   ]
  },
  {
   "cell_type": "code",
   "execution_count": 105,
   "metadata": {},
   "outputs": [
    {
     "data": {
      "image/png": "[encoded data removed]",
      "text/plain": [
       "<Figure size 432x288 with 1 Axes>"
      ]
     },
     "metadata": {
      "needs_background": "light"
     },
     "output_type": "display_data"
    }
   ],
   "source": [
    "#make 2 lists, with methylation scores only in those promoters with scores at both stages\n",
    "#change hox genes to a different color\n",
    "num = 0\n",
    "epi3 = []\n",
    "whole3 = []\n",
    "colors = []\n",
    "for i in range(106):\n",
    "    if epi.iloc[i,6] == \".\":\n",
    "        continue\n",
    "    if whole.iloc[i,6] == \".\":\n",
    "        continue\n",
    "    epi3.append(epi.iloc[i,6])\n",
    "    whole3.append(whole.iloc[i,6])\n",
    "    if \"Hox\" in whole.iloc[i,3]:\n",
    "        colors.append(\"Red\")\n",
    "    else:\n",
    "        colors.append(\"Blue\")\n",
    "\n",
    "plt.scatter(whole3, epi3, c=colors)\n",
    "plt.xlabel('Stage 4 Methylation Scores')\n",
    "plt.ylabel('Stage 5.5 Methylation Scores')\n",
    "plt.title(\"Stage 5.5/4 Promotor Methylation Scores\")\n",
    "plt.show()"
   ]
  },
  {
   "cell_type": "code",
   "execution_count": 123,
   "metadata": {},
   "outputs": [],
   "source": [
    "#t tests\n",
    "\n",
    "#construct methylation scores for hox and non-hox genes separately\n",
    "whole_hox = []\n",
    "whole_nohox = []\n",
    "epi_hox = []\n",
    "epi_nohox = []\n",
    "for i in range(106):\n",
    "    if epi.iloc[i,6] == \".\":\n",
    "        continue\n",
    "    if whole.iloc[i,6] == \".\":\n",
    "        continue\n",
    "    if \"Hox\" in whole.iloc[i,3]:\n",
    "        epi_hox.append(epi.iloc[i,6])\n",
    "        whole_hox.append(float(whole.iloc[i,6]))\n",
    "    else:\n",
    "        epi_nohox.append(epi.iloc[i,6])\n",
    "        whole_nohox.append(float(whole.iloc[i,6]))\n",
    "        "
   ]
  },
  {
   "cell_type": "code",
   "execution_count": 126,
   "metadata": {},
   "outputs": [
    {
     "data": {
      "text/plain": [
       "Ttest_indResult(statistic=-2.9478038625399785, pvalue=0.003959553022399641)"
      ]
     },
     "execution_count": 126,
     "metadata": {},
     "output_type": "execute_result"
    }
   ],
   "source": [
    "#t tests continued\n",
    "\n",
    "#Stage 5.5\n",
    "import scipy as sc \n",
    "from scipy import stats\n",
    "sc.stats.ttest_ind(epi_hox,epi_nohox) \n",
    "\n",
    "#result reveals that Hox gene promoters are significantly less methylated than other gene promoters at stage E5.5"
   ]
  },
  {
   "cell_type": "code",
   "execution_count": 125,
   "metadata": {},
   "outputs": [
    {
     "data": {
      "text/plain": [
       "Ttest_indResult(statistic=1.2491768481358854, pvalue=0.21443182015103496)"
      ]
     },
     "execution_count": 125,
     "metadata": {},
     "output_type": "execute_result"
    }
   ],
   "source": [
    "#stage 4\n",
    "sc.stats.ttest_ind(whole_hox,whole_nohox) \n",
    "\n",
    "#result reveals no stiatiscally significant difference between hox and non-hox gene promotor methylation scores "
   ]
  },
  {
   "cell_type": "code",
   "execution_count": null,
   "metadata": {},
   "outputs": [],
   "source": []
  }
 ],
 "metadata": {
  "kernelspec": {
   "display_name": "Python 3",
   "language": "python",
   "name": "python3"
  },
  "language_info": {
   "codemirror_mode": {
    "name": "ipython",
    "version": 3
   },
   "file_extension": ".py",
   "mimetype": "text/x-python",
   "name": "python",
   "nbconvert_exporter": "python",
   "pygments_lexer": "ipython3",
   "version": "3.7.1"
  }
 },
 "nbformat": 4,
 "nbformat_minor": 4
}
