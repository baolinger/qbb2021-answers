{
 "cells": [
  {
   "cell_type": "code",
   "execution_count": 12,
   "metadata": {},
   "outputs": [],
   "source": [
    "fs = open(\"/Users/cmdb/qbb2021-answers/day1-evening/SRR072893.sam\")\n",
    "sam = []\n",
    "num_alignments = 0\n",
    "num_perfect_alignments = 0\n",
    "#Sum all mapq's to later calculate avg mapq\n",
    "sum_mapq = 0\n",
    "#Initialize num_2L to count reads starting on chromosome 2L\n",
    "num_2L = 0\n",
    "#initialize value to hold the number of duplicate PCR duplicates\n",
    "num_dup = 0\n",
    "#initialize vals to hold previous line fields\n",
    "old_ID = None\n",
    "old_Cigar = None\n",
    "for line in fs:\n",
    "    if line[0] == \"@\":\n",
    "        continue\n",
    "    stripped_line = line.strip()\n",
    "    fields = stripped_line.split(\"\\t\")\n",
    "    if \"40M\" in fields[5]:\n",
    "        num_perfect_alignments += 1\n",
    "    sam.append(fields)\n",
    "    num_alignments += 1\n",
    "    sum_mapq = sum_mapq + int(fields[4])\n",
    "    if \"2L\" in fields[2] and int(fields[3]) <= 20000 and int(fields[3]) >= 10000:\n",
    "        num_2L += 1\n",
    "    #check if there is a PCR duplicate (same ID and same cigar string)\n",
    "    if fields[0] == old_ID:\n",
    "        num_dup += 1\n",
    "    old_ID = fields[0]\n",
    "    old_Cigar = fields[5]\n",
    "fs.close()"
   ]
  },
  {
   "cell_type": "code",
   "execution_count": 13,
   "metadata": {},
   "outputs": [
    {
     "data": {
      "text/plain": [
       "8128"
      ]
     },
     "execution_count": 13,
     "metadata": {},
     "output_type": "execute_result"
    }
   ],
   "source": [
    "#1)\n",
    "#Count the number of rows in Sam\n",
    "num_alignments"
   ]
  },
  {
   "cell_type": "code",
   "execution_count": 14,
   "metadata": {},
   "outputs": [
    {
     "data": {
      "text/plain": [
       "7099"
      ]
     },
     "execution_count": 14,
     "metadata": {},
     "output_type": "execute_result"
    }
   ],
   "source": [
    "#2) Count the number of perfect alignments\n",
    "num_perfect_alignments"
   ]
  },
  {
   "cell_type": "code",
   "execution_count": 15,
   "metadata": {},
   "outputs": [
    {
     "data": {
      "text/plain": [
       "58.36958661417323"
      ]
     },
     "execution_count": 15,
     "metadata": {},
     "output_type": "execute_result"
    }
   ],
   "source": [
    "#3) Calc the avg MAPQ score across all reads \n",
    "sum_mapq / num_alignments"
   ]
  },
  {
   "cell_type": "code",
   "execution_count": 16,
   "metadata": {},
   "outputs": [
    {
     "data": {
      "text/plain": [
       "7550"
      ]
     },
     "execution_count": 16,
     "metadata": {},
     "output_type": "execute_result"
    }
   ],
   "source": [
    "#4) find genes on chromsome 2L and start their alignment between 10 and 20k\n",
    "num_2L"
   ]
  },
  {
   "cell_type": "code",
   "execution_count": 17,
   "metadata": {},
   "outputs": [],
   "source": [
    "#Panda code that I didn't need \n",
    "#import pandas as pd \n",
    "#sam2 = pd.DataFrame(sam)"
   ]
  },
  {
   "cell_type": "code",
   "execution_count": 18,
   "metadata": {},
   "outputs": [
    {
     "name": "stdout",
     "output_type": "stream",
     "text": [
      "16\n"
     ]
    }
   ],
   "source": [
    "5) #Prints the number of PCR duplicates\n",
    "print(num_dup)"
   ]
  },
  {
   "cell_type": "code",
   "execution_count": null,
   "metadata": {},
   "outputs": [],
   "source": []
  }
 ],
 "metadata": {
  "kernelspec": {
   "display_name": "Python 3",
   "language": "python",
   "name": "python3"
  },
  "language_info": {
   "codemirror_mode": {
    "name": "ipython",
    "version": 3
   },
   "file_extension": ".py",
   "mimetype": "text/x-python",
   "name": "python",
   "nbconvert_exporter": "python",
   "pygments_lexer": "ipython3",
   "version": "3.7.1"
  }
 },
 "nbformat": 4,
 "nbformat_minor": 4
}
